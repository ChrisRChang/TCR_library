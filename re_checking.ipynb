{
 "cells": [
  {
   "cell_type": "code",
   "execution_count": 14,
   "metadata": {},
   "outputs": [],
   "source": [
    "import regex\n",
    "import pandas as pd\n",
    "import numpy as np\n",
    "\n",
    "from Bio import Seq\n",
    "from Bio import SeqIO\n",
    "\n",
    "import cfg\n",
    "\n",
    "def load_restriction_sites():\n",
    "\n",
    "    re_seqs = []\n",
    "    for record in SeqIO.parse(cfg.RESTRICTSITES_FN, 'fasta'):\n",
    "        re_seqs.append(record.seq)\n",
    "        re_seqs.append(record.seq.reverse_complement())\n",
    "\n",
    "    return(set(re_seqs))\n",
    "\n",
    "def rand_codon(aa, orig=None):\n",
    "    '''\n",
    "    select random codon\n",
    "    based on hs genome freq\n",
    "    '''\n",
    "    codon_rows = AA_CODON_DT[AA_CODON_DT['aa'] == aa]\n",
    "    if orig:\n",
    "        codon_rows = codon_rows[codon_rows.codon != orig]\n",
    "        if not len(codon_rows):\n",
    "            #no other codons, can't use orig\n",
    "            return(rand_codon(aa))\n",
    "    return(np.random.choice(\n",
    "            codon_rows.codon,\n",
    "            p = codon_rows.freq/sum(codon_rows.freq)))\n",
    "\n",
    "RE_SITES = load_restriction_sites()\n",
    "RE_REGEX = regex.compile('('+'|'.join([str(re).replace('N','.') for re in RE_SITES])+')')\n",
    "\n",
    "def load_hs_codon_freq():\n",
    "    '''\n",
    "    Generate aa to codon dictionary.\n",
    "    '''\n",
    "    aa_codon_dt = pd.read_csv(cfg.DATA_DIR+'hs_codon_freq.csv')\n",
    "    aa_to_codon = dict(aa_codon_dt.loc[\n",
    "            aa_codon_dt.groupby('aa')['freq'].idxmax()][\n",
    "                    ['aa','codon']].to_dict('split')['data'])\n",
    "    return(aa_codon_dt, aa_to_codon)"
   ]
  },
  {
   "cell_type": "code",
   "execution_count": null,
   "metadata": {},
   "outputs": [],
   "source": [
    "def remove_re_sites(\n",
    "        nt_seq, aa_seq,\n",
    "        pre=cfg.OLIGO_CHECK_PRE,\n",
    "        post=cfg.OLIGO_CHECK_POST,\n",
    "        re_regex= RE_REGEX,\n",
    "        v= False):\n",
    "\n",
    "    assert(Bio.Seq.Seq(nt_seq).translate() == aa_seq)\n",
    "\n",
    "    re_match = re_regex.search(pre+nt_seq+post, overlapped=True)\n",
    "    replacements = 0\n",
    "    codon_indices_replaced = []\n",
    "    aa_replaced = []\n",
    "    old_codons = []\n",
    "    new_codons = []\n",
    "\n",
    "    while re_match:\n",
    "\n",
    "        if v:\n",
    "            print('replacements:{}'.format(replacements))\n",
    "            print(pre.lower() + nt_seq + post.lower())\n",
    "            print('global match:'+str(re_match))\n",
    "\n",
    "        if replacements > 100:\n",
    "            raise Exception('too many codon replacement attempts') # something is up\n",
    "\n",
    "        # get span of nucleotide indices\n",
    "        nt_span = (\n",
    "                max([0, re_match.span()[0]- len(pre)]),\n",
    "                min([len(nt_seq), re_match.span()[1] - len(pre)]))\n",
    "\n",
    "        # expand to corresponding codon indices\n",
    "        aa_span = [i // 3 for i in nt_span]\n",
    "\n",
    "        # convert codon indices back to nucleotides\n",
    "        nt_rep_span = (aa_span[0]*3, aa_span[1]*3+3)\n",
    "\n",
    "        if v: print('spans:'+str(nt_span)+str(aa_span)+str(nt_rep_span))\n",
    "\n",
    "        # try replacing one codon at a time:\n",
    "        for codon_i in random.sample(\n",
    "                range(aa_span[0], aa_span[1]),\n",
    "                aa_span[1]-aa_span[0]):\n",
    "\n",
    "            old_codon = nt_seq[(codon_i*3):((codon_i*3)+3)]\n",
    "            if v: print(codon_i)\n",
    "            new_codon = rand_codon(aa_seq[codon_i], orig=old_codon)\n",
    "            if v: print(new_codon)\n",
    "\n",
    "            if v:\n",
    "                print('changing codon {}:{}({}) to {}({})'.format(\n",
    "                        codon_i,\n",
    "                        old_codon,\n",
    "                        aa_seq[codon_i],\n",
    "                        new_codon,\n",
    "                        Bio.Seq.Seq(new_codon).translate()))\n",
    "\n",
    "            new_nt_seq = (\n",
    "                    nt_seq[:(codon_i*3)] +\n",
    "                    new_codon +\n",
    "                    nt_seq[((codon_i*3)+3):])\n",
    "\n",
    "            # print('new seq: '+pre+new_nt_seq+post)\n",
    "            # test for same match as found originally\n",
    "            local_re_match = re_regex.search((pre+new_nt_seq+post)[\n",
    "                    re_match.span()[0]:re_match.span()[1]])\n",
    "            if v: print('local match: '+str(local_re_match))\n",
    "\n",
    "            # if no more match, we're done, accept new seq\n",
    "            if not local_re_match:\n",
    "                nt_seq = new_nt_seq\n",
    "                codon_indices_replaced.append(codon_i)\n",
    "                aa_replaced.append(aa_seq[codon_i])\n",
    "                old_codons.append(old_codon)\n",
    "                new_codons.append(new_codon)\n",
    "                break\n",
    "\n",
    "        replacements += 1\n",
    "        #redo search to see if we still have restriction sites\n",
    "        re_match = re_regex.search(pre+nt_seq+post)\n",
    "\n",
    "    assert(Bio.Seq.Seq(nt_seq).translate() == aa_seq), '{} ne {}'.format(\n",
    "            Bio.Seq.Seq(nt_seq).translate(),\n",
    "            aa_seq)\n",
    "\n",
    "    return(nt_seq, zip(\n",
    "            codon_indices_replaced,\n",
    "            aa_replaced,\n",
    "            old_codons,\n",
    "            new_codons))"
   ]
  },
  {
   "cell_type": "code",
   "execution_count": 11,
   "metadata": {},
   "outputs": [
    {
     "data": {
      "text/plain": [
       "{Seq('CGTCTC', SingleLetterAlphabet()),\n",
       " Seq('GAAGAC', SingleLetterAlphabet()),\n",
       " Seq('GAGACC', SingleLetterAlphabet()),\n",
       " Seq('GAGACG', SingleLetterAlphabet()),\n",
       " Seq('GGTCTC', SingleLetterAlphabet()),\n",
       " Seq('GTCTTC', SingleLetterAlphabet())}"
      ]
     },
     "execution_count": 11,
     "metadata": {},
     "output_type": "execute_result"
    }
   ],
   "source": [
    "load_restriction_sites()"
   ]
  },
  {
   "cell_type": "code",
   "execution_count": 12,
   "metadata": {},
   "outputs": [
    {
     "data": {
      "text/plain": [
       "regex.Regex('(GAGACG|GAAGAC|GTCTTC|GAGACC|CGTCTC|GGTCTC)', flags=regex.V0)"
      ]
     },
     "execution_count": 12,
     "metadata": {},
     "output_type": "execute_result"
    }
   ],
   "source": [
    "RE_REGEX"
   ]
  }
 ],
 "metadata": {
  "kernelspec": {
   "display_name": "Python 3",
   "language": "python",
   "name": "python3"
  },
  "language_info": {
   "codemirror_mode": {
    "name": "ipython",
    "version": 3
   },
   "file_extension": ".py",
   "mimetype": "text/x-python",
   "name": "python",
   "nbconvert_exporter": "python",
   "pygments_lexer": "ipython3",
   "version": "3.7.5"
  }
 },
 "nbformat": 4,
 "nbformat_minor": 2
}
