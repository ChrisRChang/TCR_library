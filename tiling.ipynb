{
 "cells": [
  {
   "cell_type": "markdown",
   "source": [],
   "metadata": {
    "collapsed": false
   }
  },
  {
   "cell_type": "code",
   "execution_count": 271,
   "outputs": [],
   "source": [
    "import pandas as pd\n",
    "\n",
    "from Bio import Seq\n",
    "from Bio import SeqIO\n",
    "from Bio.SeqRecord import SeqRecord\n",
    "from Bio.Seq import Seq\n"
   ],
   "metadata": {
    "collapsed": false,
    "pycharm": {
     "name": "#%%\n"
    }
   }
  },
  {
   "cell_type": "code",
   "execution_count": 272,
   "outputs": [],
   "source": [
    "def load_tile_info():\n",
    "    \"\"\"\n",
    "    Read tile configuration from a designated csv file. Each tile should have a designated id, start, stop, front adapter\n",
    "    and rear adapter.\n",
    "    :return: List of dictionaries containing information for each tile\n",
    "    \"\"\"\n",
    "\n",
    "    tiles = []\n",
    "\n",
    "    for tile in pd.read_csv('data/tile_info.csv').set_index('tile').iterrows():\n",
    "\n",
    "        tile_info = {\n",
    "            'tile_i': tile[0],\n",
    "            'start': tile[1][0],\n",
    "            'stop': tile[1][1],\n",
    "            'front': tile[1][2],\n",
    "            'end': tile[1][3]\n",
    "        }\n",
    "\n",
    "        tiles += [tile_info]\n",
    "    return tiles\n",
    "\n",
    "TILE_INFO = load_tile_info()"
   ],
   "metadata": {
    "collapsed": false,
    "pycharm": {
     "name": "#%%\n"
    }
   }
  },
  {
   "cell_type": "code",
   "execution_count": 273,
   "outputs": [
    {
     "name": "stdout",
     "output_type": "stream",
     "text": [
      "Tiling errors: 0\n"
     ]
    }
   ],
   "source": [
    "UNTILED_SEQS = pd.read_csv('out/screened_results.csv')\n",
    "REF_DNA = SeqIO.read(\"data/TRBC_Extracellular.fasta\", \"fasta\").seq\n",
    "REF_AA = Seq.translate(REF_DNA)\n",
    "\n",
    "def tile_library(library):\n",
    "    \"\"\"\n",
    "\n",
    "    :param library:\n",
    "    :return:\n",
    "    \"\"\"\n",
    "\n",
    "    tiled_sequences =[]\n",
    "    tiling_errors =[]\n",
    "    error_count = 0\n",
    "\n",
    "    for sequence in library.iterrows(): #Iterate through CSV and convert back into sequence dictionary\n",
    "\n",
    "        tiled_sequence = {\n",
    "            'position': sequence[1][1],\n",
    "            'original_aa': sequence[1][2],\n",
    "            'original_codon': sequence[1][3],\n",
    "            'new_aa': sequence[1][4],\n",
    "            'new_codon': sequence[1][5],\n",
    "            'new_dna_seq': sequence[1][6],\n",
    "            'new_aa_seq': sequence[1][7],\n",
    "            \"dna_change_s\": sequence[1][8],\n",
    "            \"dna_change_e\": sequence[1][9],\n",
    "            \"tile_i\": None,\n",
    "            \"tile_core\": None,\n",
    "            \"finished_tile\": None\n",
    "        }\n",
    "\n",
    "        for tile in TILE_INFO: #Iterate through tiles described in TILE_INFO file\n",
    "\n",
    "            tile_start = tile['start']\n",
    "            tile_stop = tile['stop']\n",
    "\n",
    "            seq_start = tiled_sequence['dna_change_s']\n",
    "            seq_stop = tiled_sequence['dna_change_e']\n",
    "\n",
    "            #Checks to see if the mutations in a sequence are contained within the tile\n",
    "            if tile_start <= seq_start and tile_stop > seq_stop:\n",
    "                tiled_sequence[\"tile_i\"] = tile[\"tile_i\"]\n",
    "\n",
    "                #Compensate for indexing changes due to a deletion\n",
    "                if tiled_sequence['new_aa'] == 'del':\n",
    "                    unappended_tile = tiled_sequence['new_dna_seq'][tile_start:tile_stop - 3]\n",
    "\n",
    "                #Trucate all other sequences using regular indexing\n",
    "                else:\n",
    "                    unappended_tile = tiled_sequence['new_dna_seq'][tile_start:tile_stop]\n",
    "\n",
    "                tiled_sequence[\"tile_core\"] = unappended_tile\n",
    "                tiled_sequence[\"finished_tile\"] = tile[\"front\"] + unappended_tile + tile[\"end\"]\n",
    "                tiled_sequences += [tiled_sequence]\n",
    "                break\n",
    "\n",
    "        #If a sequence iterates through all tile windows and is not assigned add it to error file\n",
    "        if tiled_sequence['tile_i'] is None:\n",
    "            tiling_errors += [tiled_sequence]\n",
    "            error_count += 1\n",
    "\n",
    "    print('Tiling errors: ' + str(error_count)) #Number of sequences that were not able to be assigned due to a tile\n",
    "\n",
    "    return pd.DataFrame(tiled_sequences), pd.DataFrame(tiling_errors)\n",
    "\n",
    "tiled_sequences, errors = tile_library(UNTILED_SEQS)\n",
    "tiled_sequences.to_csv('out/tiled_library.csv')\n",
    "errors.to_csv('out/tile_errors.csv')\n",
    "\n",
    "def export_library(library):\n",
    "    \"\"\"\n",
    "\n",
    "    :param library:\n",
    "    :return:\n",
    "    \"\"\"\n",
    "    formatted_sequences = [] #List of seq records to be compiled into fasta\n",
    "    base_sequence = \"TCRB_\" #Name of base sequence for fasta formatting\n",
    "\n",
    "    for member in library.iterrows():\n",
    "        id = member[0]\n",
    "        aa_i = member[1][0] + 1\n",
    "        original_aa = member[1][1]\n",
    "        new_aa= member[1][3]\n",
    "        tile = member[1][9]\n",
    "        sequence = Seq(member[1][11])\n",
    "\n",
    "        name = base_sequence + original_aa + str(aa_i) + new_aa + '_T' + str(tile) + '_OLIGO' + str(id)\n",
    "\n",
    "        record = SeqRecord(sequence, name, \"\",\"\")\n",
    "        formatted_sequences += [record]\n",
    "\n",
    "    SeqIO.write(formatted_sequences, \"out/TCRB_library.fasta\", \"fasta\")\n",
    "\n",
    "\n",
    "export_library(tiled_sequences)\n",
    "\n"
   ],
   "metadata": {
    "collapsed": false,
    "pycharm": {
     "name": "#%%\n"
    }
   }
  }
 ],
 "metadata": {
  "kernelspec": {
   "display_name": "Python 3",
   "language": "python",
   "name": "python3"
  },
  "language_info": {
   "codemirror_mode": {
    "name": "ipython",
    "version": 2
   },
   "file_extension": ".py",
   "mimetype": "text/x-python",
   "name": "python",
   "nbconvert_exporter": "python",
   "pygments_lexer": "ipython2",
   "version": "2.7.6"
  }
 },
 "nbformat": 4,
 "nbformat_minor": 0
}